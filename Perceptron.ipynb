{
 "metadata": {
  "name": ""
 },
 "nbformat": 3,
 "nbformat_minor": 0,
 "worksheets": [
  {
   "cells": [
    {
     "cell_type": "raw",
     "metadata": {},
     "source": [
      "This isn't actually using the Perceptron learning rule. Using the Delta rule. "
     ]
    },
    {
     "cell_type": "code",
     "collapsed": false,
     "input": [
      "import numpy as np\n",
      "\n",
      "def sigmoid(x):\n",
      "  return 1 / (1 + np.exp(-x))\n",
      "\n",
      "def cost(output, target):\n",
      "    cost = (output - target) ** 2\n",
      "    print cost\n",
      "\n",
      "class Perceptron:\n",
      "    \n",
      "    @staticmethod\n",
      "    def init(input_size, output_size):\n",
      "        model = {}\n",
      "        \n",
      "        model['W'] = np.random.random(((input_size + 1), output_size)) #(input_size + 1) because of bias term\n",
      "        model['input_size'] = input_size\n",
      "        model['output_size'] = output_size\n",
      "        \n",
      "        return model\n",
      "        \n",
      "    @staticmethod    \n",
      "    def forward(X, model):\n",
      "        X = np.append(X, 1) #bias term\n",
      "        W = model['W']\n",
      "\n",
      "        logit = np.dot(X, W) #logit should be nx1 where n is the number of outputs in your network      \n",
      "        \n",
      "        output = map(sigmoid, logit)\n",
      "        \n",
      "        return np.asarray(output)\n",
      "    \n",
      "    @staticmethod\n",
      "    def backward(X, target, output, model, alpha = 0.1):       \n",
      "        X = np.append(X, 1) #bias term\n",
      "        W = model['W']\n",
      "        input_size = model['input_size']\n",
      "        output_size = model['output_size']\n",
      "        \n",
      "        dE_by_dw = -np.tile(X.T, output_size) * (output) * (1 - output) * (target - output)\n",
      "        dE_by_dw = dE_by_dw.T  \n",
      "        delta_W = -alpha * dE_by_dw\n",
      "        \n",
      "        W = W + delta_W\n",
      "        model['W'] = W\n",
      "       \n",
      "        return model\n",
      "    \n",
      "    @staticmethod\n",
      "    def predict(X, model):\n",
      "        output = Perceptron.forward(X, model)\n",
      "        print output"
     ],
     "language": "python",
     "metadata": {},
     "outputs": [],
     "prompt_number": 175
    },
    {
     "cell_type": "code",
     "collapsed": false,
     "input": [
      "#initialize\n",
      "X1 = np.asarray([[0, 0]])\n",
      "X2 = np.asarray([[0, 1]])\n",
      "X3 = np.asarray([[1, 0]])\n",
      "X4 = np.asarray([[1, 1]])\n",
      "target1 = np.asarray([[1]])\n",
      "target2 = np.asarray([[0]])\n",
      "target3 = np.asarray([[1]])\n",
      "target4 = np.asarray([[0]])\n",
      "model = Perceptron.init(2, 1)\n",
      "#X = np.asarray([[0, 0]])\n",
      "#target = np.asarray([[0]])\n",
      "#model = Perceptron.init(2, 1)\n"
     ],
     "language": "python",
     "metadata": {},
     "outputs": [],
     "prompt_number": 179
    },
    {
     "cell_type": "code",
     "collapsed": false,
     "input": [
      "for i in xrange(10000):   \n",
      "    output1 = Perceptron.forward(X1, model)\n",
      "    model = Perceptron.backward(X1, target1, output1, model, 0.1)\n",
      "    \n",
      "    output2 = Perceptron.forward(X2, model)\n",
      "    model = Perceptron.backward(X2, target2, output2, model, 0.1)\n",
      "    \n",
      "    output3 = Perceptron.forward(X3, model)\n",
      "    model = Perceptron.backward(X3, target3, output3, model, 0.1)\n",
      "    \n",
      "    output4 = Perceptron.forward(X4, model)\n",
      "    model = Perceptron.backward(X4, target4, output4, model, 0.1)\n",
      "    \n",
      "    if i % 5000 == 0:\n",
      "        print \"****************\"\n",
      "        cost(output1, target1)\n",
      "        cost(output2, target2)\n",
      "        cost(output3, target3)\n",
      "        cost(output4, target4)"
     ],
     "language": "python",
     "metadata": {},
     "outputs": [
      {
       "output_type": "stream",
       "stream": "stdout",
       "text": [
        "****************\n",
        "[[ 0.00102613]]\n",
        "[[ 0.00043709]]\n",
        "[[ 0.00066418]]\n",
        "[[ 0.00067691]]\n",
        "****************"
       ]
      },
      {
       "output_type": "stream",
       "stream": "stdout",
       "text": [
        "\n",
        "[[ 0.00066673]]\n",
        "[[ 0.00028651]]\n",
        "[[ 0.00043421]]\n",
        "[[ 0.00044078]]\n"
       ]
      }
     ],
     "prompt_number": 181
    },
    {
     "cell_type": "code",
     "collapsed": false,
     "input": [
      "Perceptron.predict(X1, model)\n",
      "Perceptron.predict(X2, model)\n",
      "Perceptron.predict(X3, model)\n",
      "Perceptron.predict(X4, model)"
     ],
     "language": "python",
     "metadata": {},
     "outputs": [
      {
       "output_type": "stream",
       "stream": "stdout",
       "text": [
        "[ 0.97780568]\n",
        "[ 0.01458527]\n",
        "[ 0.98205706]\n",
        "[ 0.01805572]\n"
       ]
      }
     ],
     "prompt_number": 183
    },
    {
     "cell_type": "code",
     "collapsed": false,
     "input": [],
     "language": "python",
     "metadata": {},
     "outputs": []
    }
   ],
   "metadata": {}
  }
 ]
}